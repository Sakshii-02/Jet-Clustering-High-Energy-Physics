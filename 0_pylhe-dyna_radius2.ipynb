{
 "cells": [
  {
   "cell_type": "code",
   "execution_count": 1,
   "id": "b4601a06-582a-4439-ae36-5eab4dbaf824",
   "metadata": {},
   "outputs": [],
   "source": [
    "import numpy as np\n",
    "import pylhe\n",
    "import matplotlib.pyplot as plt\n",
    "import fastjet as fj\n",
    "import time"
   ]
  },
  {
   "cell_type": "code",
   "execution_count": 2,
   "id": "ab466077-d25f-4f57-9d62-16920e507f0a",
   "metadata": {},
   "outputs": [],
   "source": [
    "file1 = \"./emep_ttx_bbx4j_events_showered2.lhe.gz\"\n",
    "file2 = \"./emep_ttx_bbx4j_events2.lhe.gz\""
   ]
  },
  {
   "cell_type": "code",
   "execution_count": 3,
   "id": "f2811045-d8f5-430d-854b-cde4b1d8ab11",
   "metadata": {},
   "outputs": [],
   "source": [
    "events_showered = pylhe.read_lhe(file1)\n",
    "events = pylhe.read_lhe(file2)"
   ]
  },
  {
   "cell_type": "code",
   "execution_count": 4,
   "id": "901c8951-b3f4-48fe-8a13-55c116b5bff4",
   "metadata": {},
   "outputs": [],
   "source": [
    "# Perform FastJet clustering on showered data\n",
    "def fastjet_clustering(data, R):\n",
    "    fj_particles = [fj.PseudoJet(px, py, pz, e) for eta, phi, pt, e, px, py, pz in data]\n",
    "    jet_def = fj.JetDefinition(fj.cambridge_algorithm, R)\n",
    "    fastjet_cluster_sequence = fj.ClusterSequence(fj_particles, jet_def)\n",
    "    fastjet_clusters = fastjet_cluster_sequence.inclusive_jets(ptmin=5.0)\n",
    "    print(len(fastjet_clusters))\n",
    "    return fastjet_clusters, fj_particles"
   ]
  },
  {
   "cell_type": "code",
   "execution_count": 5,
   "id": "992ae378-3ee7-4322-9d85-6f8da2b63da7",
   "metadata": {},
   "outputs": [],
   "source": [
    "def delta_r(p1, p2, R):\n",
    "    delta_eta = p1[0] - p2[0]\n",
    "    delta_phi = np.abs(p1[1] - p2[1])\n",
    "    if delta_phi > np.pi:\n",
    "        delta_phi = 2 * np.pi - delta_phi\n",
    "    delta_R2 = delta_eta**2 + delta_phi**2\n",
    "    return delta_R2 / R**2\n",
    "\n",
    "def calculate_sigma(pseudojet):\n",
    "    n = len(pseudojet)\n",
    "    if n < 2:\n",
    "        return 0.0\n",
    "    pT_weights = np.array([p[2] for p in pseudojet])\n",
    "    total_pT = np.sum(pT_weights)\n",
    "    delta_Rs = [delta_r(p1, p2, 1.0) for i, p1 in enumerate(pseudojet) for j, p2 in enumerate(pseudojet) if i < j]\n",
    "    weighted_sum = np.sum([w1 * w2 * dR for (w1, w2, dR) in zip(pT_weights, pT_weights, delta_Rs)])\n",
    "    weighted_mean = weighted_sum / total_pT**2\n",
    "    weighted_sum_sq = np.sum([(w1 * w2 * dR)**2 for (w1, w2, dR) in zip(pT_weights, pT_weights, delta_Rs)])\n",
    "    variance = (weighted_sum_sq / total_pT**2) - weighted_mean**2\n",
    "    if variance < 0:\n",
    "        variance = 0\n",
    "    sigma_i = np.sqrt(variance)\n",
    "    return sigma_i\n",
    "\n",
    "def merge_particles(data, imin, jmin):\n",
    "    px_sum = data[imin, 4] + data[jmin, 4]\n",
    "    py_sum = data[imin, 5] + data[jmin, 5]\n",
    "    pz_sum = data[imin, 6] + data[jmin, 6]\n",
    "    E_sum = data[imin, 3] + data[jmin, 3]\n",
    "\n",
    "    pt_sum = np.sqrt(px_sum**2 + py_sum**2)\n",
    "    magn_p = np.sqrt(px_sum**2 + py_sum**2 + pz_sum**2)\n",
    "    eta_sum = 0.5 * np.log((magn_p + pz_sum) / (magn_p - pz_sum))\n",
    "    phi_sum = np.arctan2(py_sum, px_sum)\n",
    "    if phi_sum > np.pi:\n",
    "        phi_sum = -2 * np.pi + phi_sum\n",
    "    elif phi_sum < -np.pi:\n",
    "        phi_sum = 2 * np.pi + phi_sum\n",
    "\n",
    "    data = np.vstack([data, [eta_sum, phi_sum, pt_sum, E_sum, px_sum, py_sum, pz_sum]])\n",
    "    return data\n",
    "\n",
    "def update_dis(new_row, dist_matrix):\n",
    "    size = dist_matrix.shape[0] + 1\n",
    "    new_dist_matrix = np.zeros((size, size))\n",
    "    new_dist_matrix[:-1, :-1] = dist_matrix\n",
    "    new_dist_matrix[-1,:] = new_row\n",
    "    new_dist_matrix[:-1,-1] = new_row[:-1]\n",
    "    new_dist_matrix[-1,-1] = np.inf\n",
    "    if np.min(new_dist_matrix) < 1e-2:\n",
    "        indices = np.unravel_index(np.argmin(new_dist_matrix), new_dist_matrix.shape)\n",
    "        new_dist_matrix[indices[0],indices[1]] = np.inf\n",
    "    return new_dist_matrix\n",
    "\n",
    "def find_daughters(binary_tree, index, given_index):\n",
    "    daughters = []\n",
    "\n",
    "    # Base case: if index is not in the tree, return empty list\n",
    "    if index not in binary_tree:\n",
    "        return daughters\n",
    "\n",
    "    # Recursive case\n",
    "    node = binary_tree[index]\n",
    "    if 'left' in node:\n",
    "        left_index = node['left']\n",
    "        if left_index < given_index:\n",
    "            daughters.append(left_index)\n",
    "        daughters.extend(find_daughters(binary_tree, left_index, given_index))\n",
    "    if 'right' in node:\n",
    "        right_index = node['right']\n",
    "        if right_index < given_index:\n",
    "            daughters.append(right_index)\n",
    "        daughters.extend(find_daughters(binary_tree, right_index, given_index))\n",
    "\n",
    "    return daughters"
   ]
  },
  {
   "cell_type": "code",
   "execution_count": 6,
   "id": "6ba45b5c-0cfa-408a-8757-bec62704b14e",
   "metadata": {},
   "outputs": [],
   "source": [
    "def Custom_dynrad(R, data):\n",
    "    start_time = time.time()\n",
    "    dendogram = []\n",
    "    merge_count = 0\n",
    "    jets, mergers, jets_constituents = [], [], []\n",
    "    n_particles = data.shape[0]\n",
    "    distances = np.full((n_particles, n_particles), np.inf)\n",
    "    pseudojets = {i: [data[i]] for i in range(n_particles)}\n",
    "\n",
    "    for i in range(n_particles):\n",
    "        for j in range(i + 1, n_particles):\n",
    "            R_di = R + calculate_sigma(pseudojets[i])#\n",
    "            distances[i, j] = delta_r(data[i], data[j], R_di)\n",
    "            distances[j, i] = distances[i, j]\n",
    "    dist_matrix = np.copy(distances)\n",
    "\n",
    "    np.set_printoptions(linewidth=np.inf)\n",
    "\n",
    "    while True:\n",
    "        indices = np.unravel_index(np.argmin(dist_matrix, axis=None), dist_matrix.shape)\n",
    "        min_dist = dist_matrix[indices[0], indices[1]]\n",
    "        if min_dist < R:\n",
    "            data = merge_particles(data, indices[0], indices[1])\n",
    "            dendogram.append([merge_count + n_particles, indices[0], indices[1], min_dist])\n",
    "            merge_count += 1\n",
    "\n",
    "            new_index = data.shape[0] - 1\n",
    "            pseudojets[new_index] = pseudojets.pop(indices[0]) + pseudojets.pop(indices[1])\n",
    "\n",
    "            append_R = [delta_r(data[j], data[-1], R + calculate_sigma(pseudojets[j])) if j in pseudojets else np.inf for j in range(data.shape[0])]\n",
    "            dist_matrix = update_dis(append_R, dist_matrix)\n",
    "            dist_matrix[indices[0], :], dist_matrix[indices[1], :] = np.inf, np.inf\n",
    "            dist_matrix[:, indices[0]], dist_matrix[:, indices[1]] = np.inf, np.inf\n",
    "            for i, j, k, _ in dendogram:\n",
    "                dist_matrix[j, :], dist_matrix[k, :] = np.inf, np.inf\n",
    "                dist_matrix[:, j], dist_matrix[:, k] = np.inf, np.inf\n",
    "\n",
    "        elif min_dist >= R and min_dist < np.inf:\n",
    "            if indices[0] not in mergers and indices[1] not in mergers:\n",
    "                jets.append(data[indices[0]])\n",
    "                jets.append(data[indices[1]])\n",
    "                mergers.append(indices[0])\n",
    "                mergers.append(indices[1])\n",
    "                for merge in mergers:\n",
    "                    dist_matrix[merge, indices[0]], dist_matrix[indices[0], merge] = np.inf, np.inf\n",
    "                    dist_matrix[merge, indices[1]], dist_matrix[indices[1], merge] = np.inf, np.inf\n",
    "            if indices[0] in mergers and indices[1] not in mergers:\n",
    "                jets.append(data[indices[1]])\n",
    "                mergers.append(indices[1])\n",
    "                for merge in mergers:\n",
    "                    dist_matrix[merge, indices[1]], dist_matrix[indices[1], merge] = np.inf, np.inf\n",
    "            if indices[0] not in mergers and indices[1] in mergers:\n",
    "                jets.append(data[indices[0]])\n",
    "                mergers.append(indices[0])\n",
    "                for merge in mergers:\n",
    "                    dist_matrix[merge, indices[0]], dist_matrix[indices[0], merge] = np.inf, np.inf\n",
    "\n",
    "        elif min_dist == np.inf:\n",
    "            print(f\"Loop Broken in {round(time.time() - start_time, 4)}s\")\n",
    "            break\n",
    "\n",
    "    t = time.time()\n",
    "    tree = {}\n",
    "    dendogram = np.array(dendogram)\n",
    "    for entry in dendogram:\n",
    "        merged_index, index1, index2, _ = entry\n",
    "        if merged_index not in tree:\n",
    "            tree[merged_index] = {'left': index1, 'right': index2}\n",
    "        else:\n",
    "            print(f\"Node {merged_index} is already defined in the tree.\")\n",
    "\n",
    "    for merge in mergers:\n",
    "        children = []\n",
    "        children = find_daughters(tree, merge, n_particles)\n",
    "        jet_constituents = []\n",
    "        for child in children:\n",
    "            jet_constituents.append(all_event_s[int(child)])\n",
    "        jets_constituents.append(jet_constituents)\n",
    "    print(f\"Time taken for finding constituents {round(time.time() - t, 6)}s\")\n",
    "\n",
    "    return jets, jets_constituents, tree, mergers"
   ]
  },
  {
   "cell_type": "code",
   "execution_count": 7,
   "id": "9bb27c3f-b9eb-4399-a21a-f33b6a426b36",
   "metadata": {},
   "outputs": [],
   "source": [
    "particles = []\n",
    "all_event = []\n",
    "i = 0\n",
    "for event in events:\n",
    "    particl = []\n",
    "    i += 1\n",
    "    for particle in event.particles:\n",
    "        if particle.status == 1:  # Only stable particles\n",
    "            px, py, pz, E = particle.px, particle.py, particle.pz, particle.e\n",
    "            eta = 0.5 * np.log((np.sqrt(px**2 + py**2 + pz**2) + pz) / (np.sqrt(px**2 + py**2 + pz**2) - pz))\n",
    "            phi = np.arctan2(py, px)\n",
    "            pt = np.sqrt(px**2 + py**2)\n",
    "            particles.append([eta, phi, pt, E, px, py, pz])\n",
    "            particl.append([eta, phi, pt, E, px, py, pz])\n",
    "    if i > 1000:\n",
    "        break\n",
    "    all_event.append(particl)\n",
    "\n",
    "particle_data = np.array(particles)"
   ]
  },
  {
   "cell_type": "code",
   "execution_count": 8,
   "id": "8949a7bb-8d8b-4b62-86ff-540e2fad1926",
   "metadata": {},
   "outputs": [],
   "source": [
    "particles_s = []\n",
    "all_event_s = []\n",
    "j = 0\n",
    "for event_s in events_showered:\n",
    "    particl_s = []\n",
    "    j += 1\n",
    "    for particle in event_s.particles:\n",
    "        if particle.status == 1:  # Only stable particles\n",
    "            px, py, pz, E = particle.px, particle.py, particle.pz, particle.e\n",
    "            eta = 0.5 * np.log((np.sqrt(px**2 + py**2 + pz**2) + pz) / (np.sqrt(px**2 + py**2 + pz**2) - pz))\n",
    "            phi = np.arctan2(py, px)\n",
    "            pt = np.sqrt(px**2 + py**2)\n",
    "            particles_s.append([eta, phi, pt, E, px, py, pz])\n",
    "            particl_s.append([eta, phi, pt, E, px, py, pz])\n",
    "    if j > 1000:\n",
    "        break\n",
    "    all_event_s.append(particl_s)\n",
    "\n",
    "particle_data_s = np.array(particles_s)\n",
    "\n"
   ]
  },
  {
   "cell_type": "code",
   "execution_count": 9,
   "id": "14ebae11-1b7c-4390-b1d0-036ad3547e85",
   "metadata": {},
   "outputs": [
    {
     "name": "stdout",
     "output_type": "stream",
     "text": [
      "6#--------------------------------------------------------------------------\n",
      "#                         FastJet release 3.4.1\n",
      "\n",
      "#                 M. Cacciari, G.P. Salam and G. Soyez                  \n",
      "#     A software package for jet finding and analysis at colliders      \n",
      "#                           http://fastjet.fr                           \n",
      "#\t                                                                      \n",
      "# Please cite EPJC72(2012)1896 [arXiv:1111.6097] if you use this package\n",
      "# for scientific work and optionally PLB641(2006)57 [hep-ph/0512210].   \n",
      "#                                                                       \n",
      "# FastJet is provided without warranty under the GNU GPL v2 or higher.  \n",
      "# It uses T. Chan's closest pair algorithm, S. Fortune's Voronoi code,\n",
      "# CGAL and 3rd party plugin jet algorithms. See COPYING file for details.\n",
      "#--------------------------------------------------------------------------\n"
     ]
    }
   ],
   "source": [
    "R = 0.5  # Jet radius parameter\n",
    "fastjet_clusters_showered, fastjet_part = fastjet_clustering(all_event_s[50], R)"
   ]
  },
  {
   "cell_type": "code",
   "execution_count": 10,
   "id": "8edf8daf-39dc-41b2-8d3f-5d8c3157faba",
   "metadata": {},
   "outputs": [
    {
     "name": "stdout",
     "output_type": "stream",
     "text": [
      "Loop Broken in 0.6629s\n",
      "Time taken for finding constituents 0.001047s\n"
     ]
    }
   ],
   "source": [
    "R = 0.5 \n",
    "jets_r, jets_constituents1, tree1, mergers1 = Custom_dynrad(R, np.array(all_event_s[50]))\n"
   ]
  },
  {
   "cell_type": "code",
   "execution_count": 11,
   "id": "cf1dbfd2-f224-477b-8331-b2a6af55d695",
   "metadata": {},
   "outputs": [
    {
     "data": {
      "text/plain": [
       "Text(0, 0.5, '$\\\\phi$')"
      ]
     },
     "execution_count": 11,
     "metadata": {},
     "output_type": "execute_result"
    },
    {
     "data": {
      "image/png": "[encoded data removed]",
      "text/plain": [
       "<Figure size 1200x1000 with 4 Axes>"
      ]
     },
     "metadata": {},
     "output_type": "display_data"
    }
   ],
   "source": [
    "fig, axes = plt.subplots(2,2, figsize=(12,10))\n",
    "\n",
    "for i in all_event[50]:\n",
    "    axes[0,0].scatter(i[0],i[1],s=np.sqrt(i[3]), color = 'blue')\n",
    "axes[0,0].set_ylim(-np.pi,np.pi)\n",
    "axes[0,0].set_xlim(-4,4)\n",
    "axes[0,0].set_title('Before Showering')\n",
    "axes[0,0].set_xlabel(r'$\\eta$')\n",
    "axes[0,0].set_ylabel(r'$\\phi$')\n",
    "\n",
    "for jm in fastjet_clusters_showered:\n",
    "    pih=jm.phi()\n",
    "    if pih>np.pi:\n",
    "        pih=pih-2*np.pi\n",
    "    if pih<-np.pi:\n",
    "        pih=pih+2*np.pi\n",
    "    #print(f\"Jet: pt = {jet.pt()}, eta = {jet.eta()}, phi = {ph}, e = {jet.e()}\")\n",
    "    axes[1,0].scatter(jm.eta(), pih, s=np.sqrt(jm.e()*0.5), color = 'blue')\n",
    "axes[1,0].set_ylim(-np.pi,np.pi)\n",
    "axes[1,0].set_xlim(-4,4)\n",
    "axes[1,0].set_title('Fastjet Clustering')\n",
    "axes[1,0].set_xlabel(r'$\\eta$')\n",
    "axes[1,0].set_ylabel(r'$\\phi$')\n",
    "\n",
    "for j in all_event_s[50]:\n",
    "    axes[0,1].scatter(j[0],j[1],s=np.sqrt(j[3]), color = 'blue')\n",
    "axes[0,1].set_ylim(-np.pi,np.pi)\n",
    "axes[0,1].set_xlim(-4,4)\n",
    "axes[0,1].set_title('After Showering')\n",
    "axes[0,1].set_xlabel(r'$\\eta$')\n",
    "axes[0,1].set_ylabel(r'$\\phi$')\n",
    "\n",
    "for jet in jets_r:\n",
    "    # Only plot jets with energy > 5 GeV\n",
    "    #if jet[3] > 5.0:\n",
    "    axes[1,1].scatter(jet[0], jet[1], s=np.sqrt(jet[3] * 0.5), color = 'blue')\n",
    "axes[1,1].set_ylim(-np.pi,np.pi)\n",
    "axes[1,1].set_xlim(-4,4)\n",
    "axes[1,1].set_title('Dynamic Radius Clustering')\n",
    "axes[1,1].set_xlabel(r'$\\eta$')\n",
    "axes[1,1].set_ylabel(r'$\\phi$')"
   ]
  },
  {
   "cell_type": "markdown",
   "id": "102cbf88-ffb0-4cec-a2be-c8ff2ba3f6e5",
   "metadata": {},
   "source": [
    "## Comparison between Old custom and Dyn Rad Algorithm\n"
   ]
  },
  {
   "cell_type": "code",
   "execution_count": 13,
   "id": "48b2ffb9-aad7-4cd7-b85e-08cccd06d330",
   "metadata": {},
   "outputs": [],
   "source": [
    "def Custom_CA(R:float, data:np.array):\n",
    "    start_time = time.time()\n",
    "    dendogram = []\n",
    "    merge_count = 0\n",
    "    jets, mergers, jets_constituents = [],[],[]\n",
    "    n_particles = data.shape[0]\n",
    "    distances = np.full((n_particles, n_particles), np.inf)\n",
    "    \n",
    "    # Calculate the distance matrix and beam distances\n",
    "    for i in range(n_particles):\n",
    "        for j in range(i + 1, n_particles):\n",
    "            distances[i, j] = delta_r(data[i], data[j], R)\n",
    "            distances[j, i] = distances[i, j]\n",
    "    dist_matrix = np.copy(distances)\n",
    "    \n",
    "    np.set_printoptions(linewidth=np.inf)\n",
    "    \n",
    "    while(1):\n",
    "        indices = np.unravel_index(np.argmin(dist_matrix, axis=None), dist_matrix.shape)\n",
    "        min_dist = dist_matrix[indices[0], indices[1]]\n",
    "        if min_dist < R:\n",
    "            data = merge_particles(data, indices[0], indices[1])\n",
    "            dendogram.append([merge_count+n_particles,indices[0],indices[1],min_dist])\n",
    "            merge_count+=1\n",
    "            append_R = [delta_r(data[j], data[-1], R) for j in range(data.shape[0])]\n",
    "            dist_matrix = update_dis(append_R, dist_matrix)\n",
    "            dist_matrix[indices[0],:], dist_matrix[indices[1],:] = np.inf, np.inf\n",
    "            dist_matrix[:,indices[0]], dist_matrix[:,indices[1]] = np.inf, np.inf\n",
    "            for i,j,k,_ in dendogram:\n",
    "                dist_matrix[j,:], dist_matrix[k,:] = np.inf, np.inf\n",
    "                dist_matrix[:,j], dist_matrix[:,k] = np.inf, np.inf\n",
    "        \n",
    "        elif min_dist >= R and min_dist < np.inf:\n",
    "            if (indices[0] not in mergers) and (indices[1] not in mergers):\n",
    "                jets.append(data[indices[0]])\n",
    "                jets.append(data[indices[1]])\n",
    "                mergers.append(indices[0])\n",
    "                mergers.append(indices[1])\n",
    "                for merge in mergers:\n",
    "                    dist_matrix[merge,indices[0]], dist_matrix[indices[0],merge] = np.inf, np.inf\n",
    "                    dist_matrix[merge,indices[1]], dist_matrix[indices[1],merge] = np.inf, np.inf\n",
    "            if (indices[0] in mergers) and (indices[1] not in mergers):\n",
    "                jets.append(data[indices[1]])\n",
    "                mergers.append(indices[1])\n",
    "                for merge in mergers:\n",
    "                    dist_matrix[merge,indices[1]], dist_matrix[indices[1],merge] = np.inf, np.inf\n",
    "            if (indices[0] not in mergers) and (indices[1] in mergers):\n",
    "                jets.append(data[indices[0]])\n",
    "                mergers.append(indices[0])\n",
    "                for merge in mergers:\n",
    "                    dist_matrix[merge,indices[0]], dist_matrix[indices[0],merge] = np.inf, np.inf\n",
    "                \n",
    "        elif min_dist == np.inf:\n",
    "            # mergers.append(data.shape[0]-1)\n",
    "            print(f\"Loop Broken in {round(time.time()-start_time,4)}s\")\n",
    "            break\n",
    "\n",
    "    t = time.time()\n",
    "    tree = {} \n",
    "    dendogram = np.array(dendogram)\n",
    "    for entry in dendogram:\n",
    "        merged_index, index1, index2,_ = entry\n",
    "        if merged_index not in tree:\n",
    "            tree[merged_index] = {'left': index1, 'right': index2}\n",
    "        else:\n",
    "            print(f\"Node {merged_index} is already defined in the tree.\")\n",
    "    \n",
    "    for merge in mergers:\n",
    "        children = []\n",
    "        children = find_daughters(tree, merge, n_particles)\n",
    "        jet_constituents = []\n",
    "        for child in children:\n",
    "            jet_constituents.append(all_event_s[int(child)])\n",
    "        jets_constituents.append(jet_constituents)\n",
    "    print(f\"Time taken for finding consitutents {round(time.time()-t,6)}s\")\n",
    "        \n",
    "    return jets, jets_constituents, tree, mergers"
   ]
  },
  {
   "cell_type": "code",
   "execution_count": 14,
   "id": "84b6a87e-f09e-45de-9222-b2c54a901b43",
   "metadata": {},
   "outputs": [
    {
     "name": "stdout",
     "output_type": "stream",
     "text": [
      "Loop Broken in 0.2712s\n",
      "Time taken for finding consitutents 0.000979s\n"
     ]
    }
   ],
   "source": [
    "jets_c, jets_constituents2, tree2, mergers2 = Custom_CA(R, np.array(all_event_s[50]))\n"
   ]
  },
  {
   "cell_type": "code",
   "execution_count": 17,
   "id": "4fe29aeb-9481-4866-b096-4bfb513d6afb",
   "metadata": {},
   "outputs": [
    {
     "data": {
      "text/plain": [
       "Text(0, 0.5, '$\\\\phi$')"
      ]
     },
     "execution_count": 17,
     "metadata": {},
     "output_type": "execute_result"
    },
    {
     "data": {
      "image/png": "[encoded data removed]",
      "text/plain": [
       "<Figure size 1000x400 with 2 Axes>"
      ]
     },
     "metadata": {},
     "output_type": "display_data"
    }
   ],
   "source": [
    "fig, axes = plt.subplots(1,2, figsize=(10,4))\n",
    "\n",
    "for jet in jets_c:\n",
    "    # Only plot jets with energy > 5 GeV\n",
    "    if jet[3] > 5.0:\n",
    "        axes[0].scatter(jet[0], jet[1], s=np.sqrt(jet[3] * 0.5), color = 'blue')\n",
    "axes[0].set_ylim(-np.pi,np.pi)\n",
    "axes[0].set_xlim(-4,4)\n",
    "axes[0].set_title('Custom Cambridge Clustering')\n",
    "axes[0].set_xlabel(r'$\\eta$')\n",
    "axes[0].set_ylabel(r'$\\phi$')\n",
    "\n",
    "for jet in jets_r:\n",
    "    # Only plot jets with energy > 5 GeV\n",
    "    #if jet[3] > 5.0:\n",
    "    axes[1].scatter(jet[0], jet[1], s=np.sqrt(jet[3] * 0.5), color = 'blue')\n",
    "axes[1].set_ylim(-np.pi,np.pi)\n",
    "axes[1].set_xlim(-4,4)\n",
    "axes[1].set_title('Dynamic Radius Clustering')\n",
    "axes[1].set_xlabel(r'$\\eta$')\n",
    "axes[1].set_ylabel(r'$\\phi$')"
   ]
  },
  {
   "cell_type": "code",
   "execution_count": null,
   "id": "4872a3cd-58e5-4c2d-9db3-e367e82972b9",
   "metadata": {},
   "outputs": [],
   "source": []
  },
  {
   "cell_type": "code",
   "execution_count": null,
   "id": "f0654723-862d-41de-b582-0090b076306d",
   "metadata": {},
   "outputs": [],
   "source": []
  }
 ],
 "metadata": {
  "kernelspec": {
   "display_name": "Python 3 (ipykernel)",
   "language": "python",
   "name": "python3"
  },
  "language_info": {
   "codemirror_mode": {
    "name": "ipython",
    "version": 3
   },
   "file_extension": ".py",
   "mimetype": "text/x-python",
   "name": "python",
   "nbconvert_exporter": "python",
   "pygments_lexer": "ipython3",
   "version": "3.8.10"
  }
 },
 "nbformat": 4,
 "nbformat_minor": 5
}
